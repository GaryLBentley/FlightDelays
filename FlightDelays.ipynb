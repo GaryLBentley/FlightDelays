{
 "cells": [
  {
   "cell_type": "markdown",
   "metadata": {},
   "source": [
    "# Flight Delay Analysis Project\n",
    "#### Analyze flight data to determine the impact of a delayed arriving flight and if there is a correlated departure delay for the same aircraft. \n",
    "Research Question: : Is there a correlation between the size of an airport, International versus Regional, and the likelihood that a departing flight would be delayed due to a delayed inbound aircraft? <br>\n",
    "### Hypothesis:\n",
    "There is a positive correlation between the size of an airport (International vs. Regional) and the likelihood that a departing flight would be delayed due to a delayed inbound aircraft. Specifically, it is hypothesized that International airports with higher volumes of air traffic will exhibit a higher probability of delayed departures due to late aircraft compared to smaller, Regional airports."
   ]
  },
  {
   "cell_type": "code",
   "execution_count": 1,
   "metadata": {},
   "outputs": [],
   "source": [
    "# Import required libraries\n",
    "import pandas as pd\n",
    "import numpy as np\n",
    "import scipy as sc\n",
    "import time_functions as tf\n",
    "import seaborn as sns\n",
    "import matplotlib.pyplot as plt\n",
    "from scipy.stats import ttest_ind\n",
    "%matplotlib inline\n",
    "\n",
    "import warnings\n",
    "\n",
    "warnings.filterwarnings('ignore', category=DeprecationWarning)\n",
    "\n",
    "# Set Pandas display options\n",
    "pd.options.display.max_columns = None\n",
    "pd.options.display.max_rows = None"
   ]
  },
  {
   "cell_type": "markdown",
   "metadata": {},
   "source": [
    "## Import Data\n",
    "| File                      | Description |\n",
    "| ------------------------- | ----------- |\n",
    "| airlines.csv              | Data contains airline name information |\n",
    "| airports.csv              | Data contains airport information |\n",
    "| flights.csv               | Data contains all flight data for 2015 |\n",
    "| international_airports.csv | Data identifies U.S. International Airports |\n",
    "| bts_codes.csv | Cross-reference data to get IATA Code from Airport ID |"
   ]
  },
  {
   "cell_type": "code",
   "execution_count": 2,
   "metadata": {},
   "outputs": [],
   "source": [
    "# Load csv files into Pandas DataFrames\n",
    "df_airlines = pd.read_csv(\"data/airlines.csv\", index_col=False)\n",
    "df_airports = pd.read_csv(\"data/airports.csv\", index_col=False)\n",
    "df_flights = pd.read_csv(\"data/flights.csv\", index_col=False, low_memory=False)\n",
    "df_intl = pd.read_csv(\"data/international_airports.csv\", index_col=False)\n",
    "df_bts = pd.read_csv(\"data/bts_codes.csv\", index_col=False)"
   ]
  },
  {
   "cell_type": "markdown",
   "metadata": {},
   "source": [
    "## Assessing Data\n",
    "Visualize sample data from each of the imported datasets to determine which values will be of interest for the analysis."
   ]
  },
  {
   "cell_type": "code",
   "execution_count": 3,
   "metadata": {},
   "outputs": [
    {
     "data": {
      "text/html": [
       "<div>\n",
       "<style scoped>\n",
       "    .dataframe tbody tr th:only-of-type {\n",
       "        vertical-align: middle;\n",
       "    }\n",
       "\n",
       "    .dataframe tbody tr th {\n",
       "        vertical-align: top;\n",
       "    }\n",
       "\n",
       "    .dataframe thead th {\n",
       "        text-align: right;\n",
       "    }\n",
       "</style>\n",
       "<table border=\"1\" class=\"dataframe\">\n",
       "  <thead>\n",
       "    <tr style=\"text-align: right;\">\n",
       "      <th></th>\n",
       "      <th>IATA_CODE</th>\n",
       "      <th>AIRLINE</th>\n",
       "    </tr>\n",
       "  </thead>\n",
       "  <tbody>\n",
       "    <tr>\n",
       "      <th>0</th>\n",
       "      <td>UA</td>\n",
       "      <td>United Air Lines Inc.</td>\n",
       "    </tr>\n",
       "    <tr>\n",
       "      <th>1</th>\n",
       "      <td>AA</td>\n",
       "      <td>American Airlines Inc.</td>\n",
       "    </tr>\n",
       "    <tr>\n",
       "      <th>2</th>\n",
       "      <td>US</td>\n",
       "      <td>US Airways Inc.</td>\n",
       "    </tr>\n",
       "    <tr>\n",
       "      <th>3</th>\n",
       "      <td>F9</td>\n",
       "      <td>Frontier Airlines Inc.</td>\n",
       "    </tr>\n",
       "    <tr>\n",
       "      <th>4</th>\n",
       "      <td>B6</td>\n",
       "      <td>JetBlue Airways</td>\n",
       "    </tr>\n",
       "  </tbody>\n",
       "</table>\n",
       "</div>"
      ],
      "text/plain": [
       "  IATA_CODE                 AIRLINE\n",
       "0        UA   United Air Lines Inc.\n",
       "1        AA  American Airlines Inc.\n",
       "2        US         US Airways Inc.\n",
       "3        F9  Frontier Airlines Inc.\n",
       "4        B6         JetBlue Airways"
      ]
     },
     "execution_count": 3,
     "metadata": {},
     "output_type": "execute_result"
    }
   ],
   "source": [
    "# View the first 5 rows of the Airlines dataset\n",
    "df_airlines.head()"
   ]
  },
  {
   "cell_type": "code",
   "execution_count": 4,
   "metadata": {},
   "outputs": [
    {
     "data": {
      "text/html": [
       "<div>\n",
       "<style scoped>\n",
       "    .dataframe tbody tr th:only-of-type {\n",
       "        vertical-align: middle;\n",
       "    }\n",
       "\n",
       "    .dataframe tbody tr th {\n",
       "        vertical-align: top;\n",
       "    }\n",
       "\n",
       "    .dataframe thead th {\n",
       "        text-align: right;\n",
       "    }\n",
       "</style>\n",
       "<table border=\"1\" class=\"dataframe\">\n",
       "  <thead>\n",
       "    <tr style=\"text-align: right;\">\n",
       "      <th></th>\n",
       "      <th>IATA_CODE</th>\n",
       "      <th>AIRPORT</th>\n",
       "      <th>CITY</th>\n",
       "      <th>STATE</th>\n",
       "      <th>COUNTRY</th>\n",
       "      <th>LATITUDE</th>\n",
       "      <th>LONGITUDE</th>\n",
       "    </tr>\n",
       "  </thead>\n",
       "  <tbody>\n",
       "    <tr>\n",
       "      <th>0</th>\n",
       "      <td>ABE</td>\n",
       "      <td>Lehigh Valley International Airport</td>\n",
       "      <td>Allentown</td>\n",
       "      <td>PA</td>\n",
       "      <td>USA</td>\n",
       "      <td>40.65236</td>\n",
       "      <td>-75.44040</td>\n",
       "    </tr>\n",
       "    <tr>\n",
       "      <th>1</th>\n",
       "      <td>ABI</td>\n",
       "      <td>Abilene Regional Airport</td>\n",
       "      <td>Abilene</td>\n",
       "      <td>TX</td>\n",
       "      <td>USA</td>\n",
       "      <td>32.41132</td>\n",
       "      <td>-99.68190</td>\n",
       "    </tr>\n",
       "    <tr>\n",
       "      <th>2</th>\n",
       "      <td>ABQ</td>\n",
       "      <td>Albuquerque International Sunport</td>\n",
       "      <td>Albuquerque</td>\n",
       "      <td>NM</td>\n",
       "      <td>USA</td>\n",
       "      <td>35.04022</td>\n",
       "      <td>-106.60919</td>\n",
       "    </tr>\n",
       "    <tr>\n",
       "      <th>3</th>\n",
       "      <td>ABR</td>\n",
       "      <td>Aberdeen Regional Airport</td>\n",
       "      <td>Aberdeen</td>\n",
       "      <td>SD</td>\n",
       "      <td>USA</td>\n",
       "      <td>45.44906</td>\n",
       "      <td>-98.42183</td>\n",
       "    </tr>\n",
       "    <tr>\n",
       "      <th>4</th>\n",
       "      <td>ABY</td>\n",
       "      <td>Southwest Georgia Regional Airport</td>\n",
       "      <td>Albany</td>\n",
       "      <td>GA</td>\n",
       "      <td>USA</td>\n",
       "      <td>31.53552</td>\n",
       "      <td>-84.19447</td>\n",
       "    </tr>\n",
       "  </tbody>\n",
       "</table>\n",
       "</div>"
      ],
      "text/plain": [
       "  IATA_CODE                              AIRPORT         CITY STATE COUNTRY  \\\n",
       "0       ABE  Lehigh Valley International Airport    Allentown    PA     USA   \n",
       "1       ABI             Abilene Regional Airport      Abilene    TX     USA   \n",
       "2       ABQ    Albuquerque International Sunport  Albuquerque    NM     USA   \n",
       "3       ABR            Aberdeen Regional Airport     Aberdeen    SD     USA   \n",
       "4       ABY   Southwest Georgia Regional Airport       Albany    GA     USA   \n",
       "\n",
       "   LATITUDE  LONGITUDE  \n",
       "0  40.65236  -75.44040  \n",
       "1  32.41132  -99.68190  \n",
       "2  35.04022 -106.60919  \n",
       "3  45.44906  -98.42183  \n",
       "4  31.53552  -84.19447  "
      ]
     },
     "execution_count": 4,
     "metadata": {},
     "output_type": "execute_result"
    }
   ],
   "source": [
    "# View the first 5 rows of the Airport dataset\n",
    "df_airports.head()"
   ]
  },
  {
   "cell_type": "code",
   "execution_count": 5,
   "metadata": {},
   "outputs": [
    {
     "data": {
      "text/html": [
       "<div>\n",
       "<style scoped>\n",
       "    .dataframe tbody tr th:only-of-type {\n",
       "        vertical-align: middle;\n",
       "    }\n",
       "\n",
       "    .dataframe tbody tr th {\n",
       "        vertical-align: top;\n",
       "    }\n",
       "\n",
       "    .dataframe thead th {\n",
       "        text-align: right;\n",
       "    }\n",
       "</style>\n",
       "<table border=\"1\" class=\"dataframe\">\n",
       "  <thead>\n",
       "    <tr style=\"text-align: right;\">\n",
       "      <th></th>\n",
       "      <th>YEAR</th>\n",
       "      <th>MONTH</th>\n",
       "      <th>DAY</th>\n",
       "      <th>DAY_OF_WEEK</th>\n",
       "      <th>AIRLINE</th>\n",
       "      <th>FLIGHT_NUMBER</th>\n",
       "      <th>TAIL_NUMBER</th>\n",
       "      <th>ORIGIN_AIRPORT</th>\n",
       "      <th>DESTINATION_AIRPORT</th>\n",
       "      <th>SCHEDULED_DEPARTURE</th>\n",
       "      <th>DEPARTURE_TIME</th>\n",
       "      <th>DEPARTURE_DELAY</th>\n",
       "      <th>TAXI_OUT</th>\n",
       "      <th>WHEELS_OFF</th>\n",
       "      <th>SCHEDULED_TIME</th>\n",
       "      <th>ELAPSED_TIME</th>\n",
       "      <th>AIR_TIME</th>\n",
       "      <th>DISTANCE</th>\n",
       "      <th>WHEELS_ON</th>\n",
       "      <th>TAXI_IN</th>\n",
       "      <th>SCHEDULED_ARRIVAL</th>\n",
       "      <th>ARRIVAL_TIME</th>\n",
       "      <th>ARRIVAL_DELAY</th>\n",
       "      <th>DIVERTED</th>\n",
       "      <th>CANCELLED</th>\n",
       "      <th>CANCELLATION_REASON</th>\n",
       "      <th>AIR_SYSTEM_DELAY</th>\n",
       "      <th>SECURITY_DELAY</th>\n",
       "      <th>AIRLINE_DELAY</th>\n",
       "      <th>LATE_AIRCRAFT_DELAY</th>\n",
       "      <th>WEATHER_DELAY</th>\n",
       "    </tr>\n",
       "  </thead>\n",
       "  <tbody>\n",
       "    <tr>\n",
       "      <th>0</th>\n",
       "      <td>2015</td>\n",
       "      <td>1</td>\n",
       "      <td>1</td>\n",
       "      <td>4</td>\n",
       "      <td>AS</td>\n",
       "      <td>98</td>\n",
       "      <td>N407AS</td>\n",
       "      <td>ANC</td>\n",
       "      <td>SEA</td>\n",
       "      <td>5</td>\n",
       "      <td>2354.0</td>\n",
       "      <td>-11.0</td>\n",
       "      <td>21.0</td>\n",
       "      <td>15.0</td>\n",
       "      <td>205.0</td>\n",
       "      <td>194.0</td>\n",
       "      <td>169.0</td>\n",
       "      <td>1448</td>\n",
       "      <td>404.0</td>\n",
       "      <td>4.0</td>\n",
       "      <td>430</td>\n",
       "      <td>408.0</td>\n",
       "      <td>-22.0</td>\n",
       "      <td>0</td>\n",
       "      <td>0</td>\n",
       "      <td>NaN</td>\n",
       "      <td>NaN</td>\n",
       "      <td>NaN</td>\n",
       "      <td>NaN</td>\n",
       "      <td>NaN</td>\n",
       "      <td>NaN</td>\n",
       "    </tr>\n",
       "    <tr>\n",
       "      <th>1</th>\n",
       "      <td>2015</td>\n",
       "      <td>1</td>\n",
       "      <td>1</td>\n",
       "      <td>4</td>\n",
       "      <td>AA</td>\n",
       "      <td>2336</td>\n",
       "      <td>N3KUAA</td>\n",
       "      <td>LAX</td>\n",
       "      <td>PBI</td>\n",
       "      <td>10</td>\n",
       "      <td>2.0</td>\n",
       "      <td>-8.0</td>\n",
       "      <td>12.0</td>\n",
       "      <td>14.0</td>\n",
       "      <td>280.0</td>\n",
       "      <td>279.0</td>\n",
       "      <td>263.0</td>\n",
       "      <td>2330</td>\n",
       "      <td>737.0</td>\n",
       "      <td>4.0</td>\n",
       "      <td>750</td>\n",
       "      <td>741.0</td>\n",
       "      <td>-9.0</td>\n",
       "      <td>0</td>\n",
       "      <td>0</td>\n",
       "      <td>NaN</td>\n",
       "      <td>NaN</td>\n",
       "      <td>NaN</td>\n",
       "      <td>NaN</td>\n",
       "      <td>NaN</td>\n",
       "      <td>NaN</td>\n",
       "    </tr>\n",
       "    <tr>\n",
       "      <th>2</th>\n",
       "      <td>2015</td>\n",
       "      <td>1</td>\n",
       "      <td>1</td>\n",
       "      <td>4</td>\n",
       "      <td>US</td>\n",
       "      <td>840</td>\n",
       "      <td>N171US</td>\n",
       "      <td>SFO</td>\n",
       "      <td>CLT</td>\n",
       "      <td>20</td>\n",
       "      <td>18.0</td>\n",
       "      <td>-2.0</td>\n",
       "      <td>16.0</td>\n",
       "      <td>34.0</td>\n",
       "      <td>286.0</td>\n",
       "      <td>293.0</td>\n",
       "      <td>266.0</td>\n",
       "      <td>2296</td>\n",
       "      <td>800.0</td>\n",
       "      <td>11.0</td>\n",
       "      <td>806</td>\n",
       "      <td>811.0</td>\n",
       "      <td>5.0</td>\n",
       "      <td>0</td>\n",
       "      <td>0</td>\n",
       "      <td>NaN</td>\n",
       "      <td>NaN</td>\n",
       "      <td>NaN</td>\n",
       "      <td>NaN</td>\n",
       "      <td>NaN</td>\n",
       "      <td>NaN</td>\n",
       "    </tr>\n",
       "    <tr>\n",
       "      <th>3</th>\n",
       "      <td>2015</td>\n",
       "      <td>1</td>\n",
       "      <td>1</td>\n",
       "      <td>4</td>\n",
       "      <td>AA</td>\n",
       "      <td>258</td>\n",
       "      <td>N3HYAA</td>\n",
       "      <td>LAX</td>\n",
       "      <td>MIA</td>\n",
       "      <td>20</td>\n",
       "      <td>15.0</td>\n",
       "      <td>-5.0</td>\n",
       "      <td>15.0</td>\n",
       "      <td>30.0</td>\n",
       "      <td>285.0</td>\n",
       "      <td>281.0</td>\n",
       "      <td>258.0</td>\n",
       "      <td>2342</td>\n",
       "      <td>748.0</td>\n",
       "      <td>8.0</td>\n",
       "      <td>805</td>\n",
       "      <td>756.0</td>\n",
       "      <td>-9.0</td>\n",
       "      <td>0</td>\n",
       "      <td>0</td>\n",
       "      <td>NaN</td>\n",
       "      <td>NaN</td>\n",
       "      <td>NaN</td>\n",
       "      <td>NaN</td>\n",
       "      <td>NaN</td>\n",
       "      <td>NaN</td>\n",
       "    </tr>\n",
       "    <tr>\n",
       "      <th>4</th>\n",
       "      <td>2015</td>\n",
       "      <td>1</td>\n",
       "      <td>1</td>\n",
       "      <td>4</td>\n",
       "      <td>AS</td>\n",
       "      <td>135</td>\n",
       "      <td>N527AS</td>\n",
       "      <td>SEA</td>\n",
       "      <td>ANC</td>\n",
       "      <td>25</td>\n",
       "      <td>24.0</td>\n",
       "      <td>-1.0</td>\n",
       "      <td>11.0</td>\n",
       "      <td>35.0</td>\n",
       "      <td>235.0</td>\n",
       "      <td>215.0</td>\n",
       "      <td>199.0</td>\n",
       "      <td>1448</td>\n",
       "      <td>254.0</td>\n",
       "      <td>5.0</td>\n",
       "      <td>320</td>\n",
       "      <td>259.0</td>\n",
       "      <td>-21.0</td>\n",
       "      <td>0</td>\n",
       "      <td>0</td>\n",
       "      <td>NaN</td>\n",
       "      <td>NaN</td>\n",
       "      <td>NaN</td>\n",
       "      <td>NaN</td>\n",
       "      <td>NaN</td>\n",
       "      <td>NaN</td>\n",
       "    </tr>\n",
       "  </tbody>\n",
       "</table>\n",
       "</div>"
      ],
      "text/plain": [
       "   YEAR  MONTH  DAY  DAY_OF_WEEK AIRLINE  FLIGHT_NUMBER TAIL_NUMBER  \\\n",
       "0  2015      1    1            4      AS             98      N407AS   \n",
       "1  2015      1    1            4      AA           2336      N3KUAA   \n",
       "2  2015      1    1            4      US            840      N171US   \n",
       "3  2015      1    1            4      AA            258      N3HYAA   \n",
       "4  2015      1    1            4      AS            135      N527AS   \n",
       "\n",
       "  ORIGIN_AIRPORT DESTINATION_AIRPORT  SCHEDULED_DEPARTURE  DEPARTURE_TIME  \\\n",
       "0            ANC                 SEA                    5          2354.0   \n",
       "1            LAX                 PBI                   10             2.0   \n",
       "2            SFO                 CLT                   20            18.0   \n",
       "3            LAX                 MIA                   20            15.0   \n",
       "4            SEA                 ANC                   25            24.0   \n",
       "\n",
       "   DEPARTURE_DELAY  TAXI_OUT  WHEELS_OFF  SCHEDULED_TIME  ELAPSED_TIME  \\\n",
       "0            -11.0      21.0        15.0           205.0         194.0   \n",
       "1             -8.0      12.0        14.0           280.0         279.0   \n",
       "2             -2.0      16.0        34.0           286.0         293.0   \n",
       "3             -5.0      15.0        30.0           285.0         281.0   \n",
       "4             -1.0      11.0        35.0           235.0         215.0   \n",
       "\n",
       "   AIR_TIME  DISTANCE  WHEELS_ON  TAXI_IN  SCHEDULED_ARRIVAL  ARRIVAL_TIME  \\\n",
       "0     169.0      1448      404.0      4.0                430         408.0   \n",
       "1     263.0      2330      737.0      4.0                750         741.0   \n",
       "2     266.0      2296      800.0     11.0                806         811.0   \n",
       "3     258.0      2342      748.0      8.0                805         756.0   \n",
       "4     199.0      1448      254.0      5.0                320         259.0   \n",
       "\n",
       "   ARRIVAL_DELAY  DIVERTED  CANCELLED CANCELLATION_REASON  AIR_SYSTEM_DELAY  \\\n",
       "0          -22.0         0          0                 NaN               NaN   \n",
       "1           -9.0         0          0                 NaN               NaN   \n",
       "2            5.0         0          0                 NaN               NaN   \n",
       "3           -9.0         0          0                 NaN               NaN   \n",
       "4          -21.0         0          0                 NaN               NaN   \n",
       "\n",
       "   SECURITY_DELAY  AIRLINE_DELAY  LATE_AIRCRAFT_DELAY  WEATHER_DELAY  \n",
       "0             NaN            NaN                  NaN            NaN  \n",
       "1             NaN            NaN                  NaN            NaN  \n",
       "2             NaN            NaN                  NaN            NaN  \n",
       "3             NaN            NaN                  NaN            NaN  \n",
       "4             NaN            NaN                  NaN            NaN  "
      ]
     },
     "execution_count": 5,
     "metadata": {},
     "output_type": "execute_result"
    }
   ],
   "source": [
    "# View the first 5 rows of the Flights dataset\n",
    "df_flights.head()\n"
   ]
  },
  {
   "cell_type": "code",
   "execution_count": 6,
   "metadata": {},
   "outputs": [
    {
     "data": {
      "text/plain": [
       "(5819079, 31)"
      ]
     },
     "execution_count": 6,
     "metadata": {},
     "output_type": "execute_result"
    }
   ],
   "source": [
    "# Find total rows and columns in flights data\n",
    "df_flights.shape"
   ]
  },
  {
   "cell_type": "code",
   "execution_count": 7,
   "metadata": {},
   "outputs": [
    {
     "data": {
      "text/html": [
       "<div>\n",
       "<style scoped>\n",
       "    .dataframe tbody tr th:only-of-type {\n",
       "        vertical-align: middle;\n",
       "    }\n",
       "\n",
       "    .dataframe tbody tr th {\n",
       "        vertical-align: top;\n",
       "    }\n",
       "\n",
       "    .dataframe thead th {\n",
       "        text-align: right;\n",
       "    }\n",
       "</style>\n",
       "<table border=\"1\" class=\"dataframe\">\n",
       "  <thead>\n",
       "    <tr style=\"text-align: right;\">\n",
       "      <th></th>\n",
       "      <th>CITY</th>\n",
       "      <th>AIRPORT_NAME</th>\n",
       "      <th>STATE</th>\n",
       "      <th>IATA-Code</th>\n",
       "      <th>Status</th>\n",
       "    </tr>\n",
       "  </thead>\n",
       "  <tbody>\n",
       "    <tr>\n",
       "      <th>0</th>\n",
       "      <td>Atlanta</td>\n",
       "      <td>Hartsfield-Jackson Atlanta International</td>\n",
       "      <td>Georgia</td>\n",
       "      <td>ATL</td>\n",
       "      <td>INTL</td>\n",
       "    </tr>\n",
       "    <tr>\n",
       "      <th>1</th>\n",
       "      <td>Anchorage</td>\n",
       "      <td>Ted Stevens Anchorage International Airport</td>\n",
       "      <td>Alaska</td>\n",
       "      <td>ANC</td>\n",
       "      <td>INTL</td>\n",
       "    </tr>\n",
       "    <tr>\n",
       "      <th>2</th>\n",
       "      <td>Austin</td>\n",
       "      <td>Austin-Bergstrom International</td>\n",
       "      <td>Texas</td>\n",
       "      <td>AUS</td>\n",
       "      <td>INTL</td>\n",
       "    </tr>\n",
       "    <tr>\n",
       "      <th>3</th>\n",
       "      <td>Baltimore</td>\n",
       "      <td>Baltimore/Washington International - BWI Airport</td>\n",
       "      <td>Maryland</td>\n",
       "      <td>BWI</td>\n",
       "      <td>INTL</td>\n",
       "    </tr>\n",
       "    <tr>\n",
       "      <th>4</th>\n",
       "      <td>Boston</td>\n",
       "      <td>Logan International Airport</td>\n",
       "      <td>Massachusetts</td>\n",
       "      <td>BOS</td>\n",
       "      <td>INTL</td>\n",
       "    </tr>\n",
       "  </tbody>\n",
       "</table>\n",
       "</div>"
      ],
      "text/plain": [
       "        CITY                                      AIRPORT_NAME          STATE  \\\n",
       "0    Atlanta          Hartsfield-Jackson Atlanta International        Georgia   \n",
       "1  Anchorage       Ted Stevens Anchorage International Airport         Alaska   \n",
       "2     Austin                    Austin-Bergstrom International          Texas   \n",
       "3  Baltimore  Baltimore/Washington International - BWI Airport       Maryland   \n",
       "4     Boston                       Logan International Airport  Massachusetts   \n",
       "\n",
       "  IATA-Code Status  \n",
       "0       ATL   INTL  \n",
       "1       ANC   INTL  \n",
       "2       AUS   INTL  \n",
       "3       BWI   INTL  \n",
       "4       BOS   INTL  "
      ]
     },
     "execution_count": 7,
     "metadata": {},
     "output_type": "execute_result"
    }
   ],
   "source": [
    "# View the first 5 rows of the International dataset\n",
    "df_intl.head()"
   ]
  },
  {
   "cell_type": "code",
   "execution_count": 8,
   "metadata": {},
   "outputs": [
    {
     "data": {
      "text/html": [
       "<div>\n",
       "<style scoped>\n",
       "    .dataframe tbody tr th:only-of-type {\n",
       "        vertical-align: middle;\n",
       "    }\n",
       "\n",
       "    .dataframe tbody tr th {\n",
       "        vertical-align: top;\n",
       "    }\n",
       "\n",
       "    .dataframe thead th {\n",
       "        text-align: right;\n",
       "    }\n",
       "</style>\n",
       "<table border=\"1\" class=\"dataframe\">\n",
       "  <thead>\n",
       "    <tr style=\"text-align: right;\">\n",
       "      <th></th>\n",
       "      <th>AIRPORT_SEQ_ID</th>\n",
       "      <th>AIRPORT_ID</th>\n",
       "      <th>AIRPORT</th>\n",
       "      <th>DISPLAY_AIRPORT_NAME</th>\n",
       "      <th>DISPLAY_AIRPORT_CITY_NAME_FULL</th>\n",
       "    </tr>\n",
       "  </thead>\n",
       "  <tbody>\n",
       "    <tr>\n",
       "      <th>0</th>\n",
       "      <td>1000101</td>\n",
       "      <td>10001</td>\n",
       "      <td>01A</td>\n",
       "      <td>Afognak Lake Airport</td>\n",
       "      <td>Afognak Lake, AK</td>\n",
       "    </tr>\n",
       "    <tr>\n",
       "      <th>1</th>\n",
       "      <td>1000301</td>\n",
       "      <td>10003</td>\n",
       "      <td>03A</td>\n",
       "      <td>Bear Creek Mining Strip</td>\n",
       "      <td>Granite Mountain, AK</td>\n",
       "    </tr>\n",
       "    <tr>\n",
       "      <th>2</th>\n",
       "      <td>1000401</td>\n",
       "      <td>10004</td>\n",
       "      <td>04A</td>\n",
       "      <td>Lik Mining Camp</td>\n",
       "      <td>Lik, AK</td>\n",
       "    </tr>\n",
       "    <tr>\n",
       "      <th>3</th>\n",
       "      <td>1000501</td>\n",
       "      <td>10005</td>\n",
       "      <td>05A</td>\n",
       "      <td>Little Squaw Airport</td>\n",
       "      <td>Little Squaw, AK</td>\n",
       "    </tr>\n",
       "    <tr>\n",
       "      <th>4</th>\n",
       "      <td>1000601</td>\n",
       "      <td>10006</td>\n",
       "      <td>06A</td>\n",
       "      <td>Kizhuyak Bay</td>\n",
       "      <td>Kizhuyak, AK</td>\n",
       "    </tr>\n",
       "  </tbody>\n",
       "</table>\n",
       "</div>"
      ],
      "text/plain": [
       "   AIRPORT_SEQ_ID  AIRPORT_ID AIRPORT     DISPLAY_AIRPORT_NAME  \\\n",
       "0         1000101       10001     01A     Afognak Lake Airport   \n",
       "1         1000301       10003     03A  Bear Creek Mining Strip   \n",
       "2         1000401       10004     04A          Lik Mining Camp   \n",
       "3         1000501       10005     05A     Little Squaw Airport   \n",
       "4         1000601       10006     06A             Kizhuyak Bay   \n",
       "\n",
       "  DISPLAY_AIRPORT_CITY_NAME_FULL  \n",
       "0               Afognak Lake, AK  \n",
       "1           Granite Mountain, AK  \n",
       "2                        Lik, AK  \n",
       "3               Little Squaw, AK  \n",
       "4                   Kizhuyak, AK  "
      ]
     },
     "execution_count": 8,
     "metadata": {},
     "output_type": "execute_result"
    }
   ],
   "source": [
    "# View the first 5 rows of the BTS dataset\n",
    "df_bts.head()"
   ]
  },
  {
   "cell_type": "markdown",
   "metadata": {},
   "source": [
    "## Data Cleaning\n",
    "Review the Flights data and determine which columns and rows can be removed from the dataset."
   ]
  },
  {
   "cell_type": "code",
   "execution_count": 9,
   "metadata": {},
   "outputs": [
    {
     "data": {
      "text/plain": [
       "Index(['YEAR', 'MONTH', 'DAY', 'DAY_OF_WEEK', 'AIRLINE', 'FLIGHT_NUMBER',\n",
       "       'TAIL_NUMBER', 'ORIGIN_AIRPORT', 'DESTINATION_AIRPORT',\n",
       "       'SCHEDULED_DEPARTURE', 'DEPARTURE_TIME', 'DEPARTURE_DELAY', 'TAXI_OUT',\n",
       "       'WHEELS_OFF', 'SCHEDULED_TIME', 'ELAPSED_TIME', 'AIR_TIME', 'DISTANCE',\n",
       "       'WHEELS_ON', 'TAXI_IN', 'SCHEDULED_ARRIVAL', 'ARRIVAL_TIME',\n",
       "       'ARRIVAL_DELAY', 'DIVERTED', 'CANCELLED', 'CANCELLATION_REASON',\n",
       "       'AIR_SYSTEM_DELAY', 'SECURITY_DELAY', 'AIRLINE_DELAY',\n",
       "       'LATE_AIRCRAFT_DELAY', 'WEATHER_DELAY'],\n",
       "      dtype='object')"
      ]
     },
     "execution_count": 9,
     "metadata": {},
     "output_type": "execute_result"
    }
   ],
   "source": [
    "# Get listing of all columns in the Flight data\n",
    "df_flights.columns"
   ]
  },
  {
   "cell_type": "markdown",
   "metadata": {},
   "source": [
    "Drop columns that are not needed in the analysis:\n",
    "- FLIGHT_NUMBER, DAY_OF_WEEK, AIR_SYSTEM_DELAY, SECURITY_DELAY, AIRLINE_DELAY, LATE_AIRCRAFT_DELAY, WEATHER_DELAY, CANCELLATION_REASON, TAXI_OUT,\n",
    "       WHEELS_OFF, SCHEDULED_TIME, ELAPSED_TIME, AIR_TIME, DISTANCE, WHEELS_ON, TAXI_IN"
   ]
  },
  {
   "cell_type": "code",
   "execution_count": 10,
   "metadata": {},
   "outputs": [],
   "source": [
    "# Drop columns \n",
    "drop = ['FLIGHT_NUMBER', 'DAY_OF_WEEK', 'AIR_SYSTEM_DELAY', 'SECURITY_DELAY', 'AIRLINE_DELAY',\n",
    "       'LATE_AIRCRAFT_DELAY', 'WEATHER_DELAY', 'CANCELLATION_REASON', 'TAXI_OUT',\n",
    "       'WHEELS_OFF', 'SCHEDULED_TIME', 'ELAPSED_TIME', 'AIR_TIME', 'DISTANCE',\n",
    "       'WHEELS_ON', 'TAXI_IN']\n",
    "\n",
    "df_flights.drop(drop, axis=1, inplace=True)"
   ]
  },
  {
   "cell_type": "markdown",
   "metadata": {},
   "source": [
    "There are flights that were DIVERTED or CANCELLED. For the purposes of the analysis, those rows will be removed. Drop the columns when finished."
   ]
  },
  {
   "cell_type": "code",
   "execution_count": 11,
   "metadata": {},
   "outputs": [],
   "source": [
    "# Drop rows where the flight was CANCELLED OR DIVERTED\n",
    "df_flights.drop(df_flights.index[df_flights['CANCELLED'] == 1], inplace=True)\n",
    "df_flights.drop(df_flights.index[df_flights['DIVERTED'] == 1], inplace=True)\n",
    "\n",
    "# Drop CANCELLED & DIVERTED columns\n",
    "df_flights.drop('CANCELLED', axis=1, inplace=True)\n",
    "df_flights.drop('DIVERTED', axis=1, inplace=True)"
   ]
  },
  {
   "cell_type": "markdown",
   "metadata": {},
   "source": [
    "All NaN values have been removed from the dataset."
   ]
  },
  {
   "cell_type": "code",
   "execution_count": 12,
   "metadata": {},
   "outputs": [
    {
     "data": {
      "text/plain": [
       "(YEAR                   0\n",
       " MONTH                  0\n",
       " DAY                    0\n",
       " AIRLINE                0\n",
       " TAIL_NUMBER            0\n",
       " ORIGIN_AIRPORT         0\n",
       " DESTINATION_AIRPORT    0\n",
       " SCHEDULED_DEPARTURE    0\n",
       " DEPARTURE_TIME         0\n",
       " DEPARTURE_DELAY        0\n",
       " SCHEDULED_ARRIVAL      0\n",
       " ARRIVAL_TIME           0\n",
       " ARRIVAL_DELAY          0\n",
       " dtype: int64,\n",
       " (5714008, 13))"
      ]
     },
     "execution_count": 12,
     "metadata": {},
     "output_type": "execute_result"
    }
   ],
   "source": [
    "# Examine the Flights dataset for NaN (Null) values \n",
    "df_flights.isnull().sum(), df_flights.shape"
   ]
  },
  {
   "cell_type": "markdown",
   "metadata": {},
   "source": [
    "The Flights data started with 5819079 rows of data. We now have 5714008 rows remaining.<br>\n",
    "The total reduction of 1.8% in data rows should not have any material impact on our final results."
   ]
  },
  {
   "cell_type": "markdown",
   "metadata": {},
   "source": [
    "Convert DEPARTURE_DELAY and ARRIVAL_DELAY from Float to Integer values."
   ]
  },
  {
   "cell_type": "code",
   "execution_count": 13,
   "metadata": {},
   "outputs": [],
   "source": [
    "# Convert column values from Float to Integer\n",
    "df_flights = df_flights.astype({'DEPARTURE_DELAY':int})\n",
    "df_flights = df_flights.astype({'ARRIVAL_DELAY':int})"
   ]
  },
  {
   "cell_type": "code",
   "execution_count": 14,
   "metadata": {},
   "outputs": [
    {
     "data": {
      "text/html": [
       "<div>\n",
       "<style scoped>\n",
       "    .dataframe tbody tr th:only-of-type {\n",
       "        vertical-align: middle;\n",
       "    }\n",
       "\n",
       "    .dataframe tbody tr th {\n",
       "        vertical-align: top;\n",
       "    }\n",
       "\n",
       "    .dataframe thead th {\n",
       "        text-align: right;\n",
       "    }\n",
       "</style>\n",
       "<table border=\"1\" class=\"dataframe\">\n",
       "  <thead>\n",
       "    <tr style=\"text-align: right;\">\n",
       "      <th></th>\n",
       "      <th>YEAR</th>\n",
       "      <th>MONTH</th>\n",
       "      <th>DAY</th>\n",
       "      <th>AIRLINE</th>\n",
       "      <th>TAIL_NUMBER</th>\n",
       "      <th>ORIGIN_AIRPORT</th>\n",
       "      <th>DESTINATION_AIRPORT</th>\n",
       "      <th>SCHEDULED_DEPARTURE</th>\n",
       "      <th>DEPARTURE_TIME</th>\n",
       "      <th>DEPARTURE_DELAY</th>\n",
       "      <th>SCHEDULED_ARRIVAL</th>\n",
       "      <th>ARRIVAL_TIME</th>\n",
       "      <th>ARRIVAL_DELAY</th>\n",
       "    </tr>\n",
       "  </thead>\n",
       "  <tbody>\n",
       "    <tr>\n",
       "      <th>0</th>\n",
       "      <td>2015</td>\n",
       "      <td>1</td>\n",
       "      <td>1</td>\n",
       "      <td>AS</td>\n",
       "      <td>N407AS</td>\n",
       "      <td>ANC</td>\n",
       "      <td>SEA</td>\n",
       "      <td>5</td>\n",
       "      <td>2354.0</td>\n",
       "      <td>-11</td>\n",
       "      <td>430</td>\n",
       "      <td>408.0</td>\n",
       "      <td>-22</td>\n",
       "    </tr>\n",
       "    <tr>\n",
       "      <th>1</th>\n",
       "      <td>2015</td>\n",
       "      <td>1</td>\n",
       "      <td>1</td>\n",
       "      <td>AA</td>\n",
       "      <td>N3KUAA</td>\n",
       "      <td>LAX</td>\n",
       "      <td>PBI</td>\n",
       "      <td>10</td>\n",
       "      <td>2.0</td>\n",
       "      <td>-8</td>\n",
       "      <td>750</td>\n",
       "      <td>741.0</td>\n",
       "      <td>-9</td>\n",
       "    </tr>\n",
       "    <tr>\n",
       "      <th>2</th>\n",
       "      <td>2015</td>\n",
       "      <td>1</td>\n",
       "      <td>1</td>\n",
       "      <td>US</td>\n",
       "      <td>N171US</td>\n",
       "      <td>SFO</td>\n",
       "      <td>CLT</td>\n",
       "      <td>20</td>\n",
       "      <td>18.0</td>\n",
       "      <td>-2</td>\n",
       "      <td>806</td>\n",
       "      <td>811.0</td>\n",
       "      <td>5</td>\n",
       "    </tr>\n",
       "    <tr>\n",
       "      <th>3</th>\n",
       "      <td>2015</td>\n",
       "      <td>1</td>\n",
       "      <td>1</td>\n",
       "      <td>AA</td>\n",
       "      <td>N3HYAA</td>\n",
       "      <td>LAX</td>\n",
       "      <td>MIA</td>\n",
       "      <td>20</td>\n",
       "      <td>15.0</td>\n",
       "      <td>-5</td>\n",
       "      <td>805</td>\n",
       "      <td>756.0</td>\n",
       "      <td>-9</td>\n",
       "    </tr>\n",
       "    <tr>\n",
       "      <th>4</th>\n",
       "      <td>2015</td>\n",
       "      <td>1</td>\n",
       "      <td>1</td>\n",
       "      <td>AS</td>\n",
       "      <td>N527AS</td>\n",
       "      <td>SEA</td>\n",
       "      <td>ANC</td>\n",
       "      <td>25</td>\n",
       "      <td>24.0</td>\n",
       "      <td>-1</td>\n",
       "      <td>320</td>\n",
       "      <td>259.0</td>\n",
       "      <td>-21</td>\n",
       "    </tr>\n",
       "  </tbody>\n",
       "</table>\n",
       "</div>"
      ],
      "text/plain": [
       "   YEAR  MONTH  DAY AIRLINE TAIL_NUMBER ORIGIN_AIRPORT DESTINATION_AIRPORT  \\\n",
       "0  2015      1    1      AS      N407AS            ANC                 SEA   \n",
       "1  2015      1    1      AA      N3KUAA            LAX                 PBI   \n",
       "2  2015      1    1      US      N171US            SFO                 CLT   \n",
       "3  2015      1    1      AA      N3HYAA            LAX                 MIA   \n",
       "4  2015      1    1      AS      N527AS            SEA                 ANC   \n",
       "\n",
       "   SCHEDULED_DEPARTURE  DEPARTURE_TIME  DEPARTURE_DELAY  SCHEDULED_ARRIVAL  \\\n",
       "0                    5          2354.0              -11                430   \n",
       "1                   10             2.0               -8                750   \n",
       "2                   20            18.0               -2                806   \n",
       "3                   20            15.0               -5                805   \n",
       "4                   25            24.0               -1                320   \n",
       "\n",
       "   ARRIVAL_TIME  ARRIVAL_DELAY  \n",
       "0         408.0            -22  \n",
       "1         741.0             -9  \n",
       "2         811.0              5  \n",
       "3         756.0             -9  \n",
       "4         259.0            -21  "
      ]
     },
     "execution_count": 14,
     "metadata": {},
     "output_type": "execute_result"
    }
   ],
   "source": [
    "df_flights.head()"
   ]
  },
  {
   "cell_type": "markdown",
   "metadata": {},
   "source": [
    "## Join Datasets\n",
    "- Rename column AIRLINE to AIRLINE_CODE in df_flights\n",
    "- From df_airports bring in the Airport Name based on the IATA code of the ORIGIN_AIRPORT in df_flights\n",
    "- From df_airlines bring in the Airline Name based on the IATA code of the AIRLINE_CODE in df_flights\n",
    "- From df_international_airports bring in the airport Status based on the IATA code of the ORIGIN_AIRPORT in df_flights"
   ]
  },
  {
   "cell_type": "code",
   "execution_count": 15,
   "metadata": {},
   "outputs": [],
   "source": [
    "# Rename column\n",
    "df_flights.rename(columns={'AIRLINE': 'AIRLINE_CODE'}, inplace=True)"
   ]
  },
  {
   "cell_type": "markdown",
   "metadata": {},
   "source": [
    "In df_flights there are standard Airport IATA codes, plus numeric AIRPORT ID codes. Before we match to the values in df_airports to add the airport names, we need to convert the numeric AIRPORT ID codes into IATA Codes. Create temp df's and map values between df_flights and df_bts."
   ]
  },
  {
   "cell_type": "code",
   "execution_count": 16,
   "metadata": {},
   "outputs": [],
   "source": [
    "# Filter out ORIGIN_AIRPORT and DESTINATION_AIRPORT with more than 3 characters\n",
    "\n",
    "# Convert AIRPORT_ID to string type\n",
    "df_bts['AIRPORT_ID'] = df_bts['AIRPORT_ID'].astype(str)\n",
    "\n",
    "# Filter out ORIGIN_AIRPORT and DESTINATION_AIRPORT with more than 3 characters\n",
    "df_org = df_flights['ORIGIN_AIRPORT'].str.len() > 3\n",
    "df_dest = df_flights['DESTINATION_AIRPORT'].str.len() > 3\n",
    "\n",
    "# Create a DataFrame with unique mappings\n",
    "df_org_map = df_bts.groupby('AIRPORT_ID').first()['AIRPORT']\n",
    "df_dest_map = df_bts.groupby('AIRPORT_ID').first()['AIRPORT']\n",
    "\n",
    "# Map codes to IATA codes only when there's a match\n",
    "df_flights.loc[df_org, 'ORIGIN_AIRPORT'] = df_flights.loc[df_org, 'ORIGIN_AIRPORT'].map(df_org_map).fillna(df_flights.loc[df_org, 'ORIGIN_AIRPORT'])\n",
    "df_flights.loc[df_dest, 'DESTINATION_AIRPORT'] = df_flights.loc[df_dest, 'DESTINATION_AIRPORT'].map(df_dest_map).fillna(df_flights.loc[df_dest, 'DESTINATION_AIRPORT'])"
   ]
  },
  {
   "cell_type": "markdown",
   "metadata": {},
   "source": [
    "All flights now have valid ORIGIN and DESTINATION IATA codes. Bring in the airport names from df_airports."
   ]
  },
  {
   "cell_type": "code",
   "execution_count": 17,
   "metadata": {},
   "outputs": [
    {
     "data": {
      "text/plain": [
       "(YEAR                       0\n",
       " MONTH                      0\n",
       " DAY                        0\n",
       " AIRLINE_CODE               0\n",
       " TAIL_NUMBER                0\n",
       " ORIGIN_AIRPORT             0\n",
       " DESTINATION_AIRPORT        0\n",
       " SCHEDULED_DEPARTURE        0\n",
       " DEPARTURE_TIME             0\n",
       " DEPARTURE_DELAY            0\n",
       " SCHEDULED_ARRIVAL          0\n",
       " ARRIVAL_TIME               0\n",
       " ARRIVAL_DELAY              0\n",
       " AIRPORT                11919\n",
       " dtype: int64,\n",
       " (5714008, 14))"
      ]
     },
     "execution_count": 17,
     "metadata": {},
     "output_type": "execute_result"
    }
   ],
   "source": [
    "# Bring in Airport Name and drop additional columns\n",
    "df_flights = df_flights.merge(df_airports,left_on='ORIGIN_AIRPORT', right_on='IATA_CODE', \n",
    "                              how='left').drop(columns=[\n",
    "    'IATA_CODE', 'CITY', 'STATE', 'COUNTRY', 'LATITUDE', 'LONGITUDE'])\n",
    "\n",
    "# Sanity Check\n",
    "df_flights.isnull().sum(), df_flights.shape"
   ]
  },
  {
   "cell_type": "markdown",
   "metadata": {},
   "source": [
    "There are still rows of data without an Airport name. After researching, these airport names are in the df_bts data."
   ]
  },
  {
   "cell_type": "code",
   "execution_count": 18,
   "metadata": {},
   "outputs": [
    {
     "data": {
      "text/plain": [
       "(YEAR                   0\n",
       " MONTH                  0\n",
       " DAY                    0\n",
       " AIRLINE_CODE           0\n",
       " TAIL_NUMBER            0\n",
       " ORIGIN_AIRPORT         0\n",
       " DESTINATION_AIRPORT    0\n",
       " SCHEDULED_DEPARTURE    0\n",
       " DEPARTURE_TIME         0\n",
       " DEPARTURE_DELAY        0\n",
       " SCHEDULED_ARRIVAL      0\n",
       " ARRIVAL_TIME           0\n",
       " ARRIVAL_DELAY          0\n",
       " AIRPORT                0\n",
       " dtype: int64,\n",
       " (5714008, 14))"
      ]
     },
     "execution_count": 18,
     "metadata": {},
     "output_type": "execute_result"
    }
   ],
   "source": [
    "# Reset the index of df_bts to ensure it's unique\n",
    "df_bts_unique_index = df_bts.drop_duplicates('AIRPORT').set_index('AIRPORT')\n",
    "\n",
    "# Filter rows where ORIGIN_AIRPORT is not null and AIRPORT is null\n",
    "missing_airports_mask = (df_flights['ORIGIN_AIRPORT'].notnull()) & (df_flights['AIRPORT'].isnull())\n",
    "\n",
    "# Map missing airports to DISPLAY_AIRPORT_NAME from df_bts\n",
    "missing_airports_mapping = df_bts_unique_index['DISPLAY_AIRPORT_NAME']\n",
    "df_flights.loc[missing_airports_mask, 'AIRPORT'] = df_flights.loc[missing_airports_mask, 'ORIGIN_AIRPORT'].map(missing_airports_mapping)\n",
    "\n",
    "# Another Sanity Check\n",
    "df_flights.isnull().sum(), df_flights.shape"
   ]
  },
  {
   "cell_type": "markdown",
   "metadata": {},
   "source": [
    "All Airport name values are now accounted for. Add in Airline Name data from df_airlines."
   ]
  },
  {
   "cell_type": "code",
   "execution_count": 19,
   "metadata": {},
   "outputs": [],
   "source": [
    "# Bring in Airline Name and drop additonal columns\n",
    "df_flights = df_flights.merge(df_airlines, left_on='AIRLINE_CODE', right_on='IATA_CODE', \n",
    "                              how='left').drop(columns=['IATA_CODE'])"
   ]
  },
  {
   "cell_type": "markdown",
   "metadata": {},
   "source": [
    "The next step is to create a Status column that will identify if an Airport is International or Regional. Using the df_intl data, match up the INTL Airports. The rows that are not matched are assumed to be Regional so they are marked as REG."
   ]
  },
  {
   "cell_type": "code",
   "execution_count": 20,
   "metadata": {},
   "outputs": [],
   "source": [
    "# Bring in airport Status and drop additional columns\n",
    "df_flights = df_flights.merge(df_intl, left_on='ORIGIN_AIRPORT', right_on='IATA-Code', \n",
    "                              how='left').drop(columns=['CITY','AIRPORT_NAME', 'STATE', 'IATA-Code'])\n",
    "\n",
    "# Set Status to REG for all flights that are not already identified as INTL\n",
    "df_flights['Status'] = df_flights['Status'].fillna(\"REG\")"
   ]
  },
  {
   "cell_type": "markdown",
   "metadata": {},
   "source": [
    "Convert the Year, Month, and Day columns into a Date column. Drop the Year, Month, and Day columns when finished."
   ]
  },
  {
   "cell_type": "code",
   "execution_count": 21,
   "metadata": {},
   "outputs": [],
   "source": [
    "# Create DATE column\n",
    "df_flights['DATE'] = pd.to_datetime(df_flights[['YEAR', 'MONTH', 'DAY']])\n",
    "\n",
    "# Drop columns\n",
    "drop = ['YEAR', 'MONTH', 'DAY']\n",
    "df_flights.drop(drop, axis=1, inplace=True)"
   ]
  },
  {
   "cell_type": "markdown",
   "metadata": {},
   "source": [
    "Convert SCHEDULED_DEPARTURE, DEPARTURE_TIME, SCHEDULED_ARRIVAL, ARRIVAL_TIME columns to proper time values HH:MM.<br>\n",
    "Add the DATE infront of the time for SCHEDULED_DEPARTURE."
   ]
  },
  {
   "cell_type": "code",
   "execution_count": 22,
   "metadata": {},
   "outputs": [],
   "source": [
    "# Time functions reused under Apache 2.0 License\n",
    "# https://www.kaggle.com/code/fabiendaniel/predicting-flight-delays-tutorial\n",
    "# Original author: FABIENDANIEL \n",
    "\n",
    "df_flights['SCHEDULED_DEPARTURE'] = tf.flight_time(df_flights, 'SCHEDULED_DEPARTURE')\n",
    "df_flights['DEPARTURE_TIME'] = df_flights['DEPARTURE_TIME'].apply(tf.format_hour)\n",
    "df_flights['SCHEDULED_ARRIVAL'] = df_flights['SCHEDULED_ARRIVAL'].apply(tf.format_hour)\n",
    "df_flights['ARRIVAL_TIME'] = df_flights['ARRIVAL_TIME'].apply(tf.format_hour)"
   ]
  },
  {
   "cell_type": "code",
   "execution_count": 23,
   "metadata": {},
   "outputs": [
    {
     "data": {
      "text/plain": [
       "(AIRLINE_CODE           0\n",
       " TAIL_NUMBER            0\n",
       " ORIGIN_AIRPORT         0\n",
       " DESTINATION_AIRPORT    0\n",
       " SCHEDULED_DEPARTURE    0\n",
       " DEPARTURE_TIME         0\n",
       " DEPARTURE_DELAY        0\n",
       " SCHEDULED_ARRIVAL      0\n",
       " ARRIVAL_TIME           0\n",
       " ARRIVAL_DELAY          0\n",
       " AIRPORT                0\n",
       " AIRLINE                0\n",
       " Status                 0\n",
       " DATE                   0\n",
       " dtype: int64,\n",
       " (5714008, 14))"
      ]
     },
     "execution_count": 23,
     "metadata": {},
     "output_type": "execute_result"
    }
   ],
   "source": [
    "# Check to see if any data went missing after time functions\n",
    "df_flights.isnull().sum(), df_flights.shape"
   ]
  },
  {
   "cell_type": "markdown",
   "metadata": {},
   "source": [
    "Validate that the time fields now contain desired formatting."
   ]
  },
  {
   "cell_type": "code",
   "execution_count": 24,
   "metadata": {},
   "outputs": [
    {
     "data": {
      "text/html": [
       "<div>\n",
       "<style scoped>\n",
       "    .dataframe tbody tr th:only-of-type {\n",
       "        vertical-align: middle;\n",
       "    }\n",
       "\n",
       "    .dataframe tbody tr th {\n",
       "        vertical-align: top;\n",
       "    }\n",
       "\n",
       "    .dataframe thead th {\n",
       "        text-align: right;\n",
       "    }\n",
       "</style>\n",
       "<table border=\"1\" class=\"dataframe\">\n",
       "  <thead>\n",
       "    <tr style=\"text-align: right;\">\n",
       "      <th></th>\n",
       "      <th>AIRLINE_CODE</th>\n",
       "      <th>TAIL_NUMBER</th>\n",
       "      <th>ORIGIN_AIRPORT</th>\n",
       "      <th>DESTINATION_AIRPORT</th>\n",
       "      <th>SCHEDULED_DEPARTURE</th>\n",
       "      <th>DEPARTURE_TIME</th>\n",
       "      <th>DEPARTURE_DELAY</th>\n",
       "      <th>SCHEDULED_ARRIVAL</th>\n",
       "      <th>ARRIVAL_TIME</th>\n",
       "      <th>ARRIVAL_DELAY</th>\n",
       "      <th>AIRPORT</th>\n",
       "      <th>AIRLINE</th>\n",
       "      <th>Status</th>\n",
       "      <th>DATE</th>\n",
       "    </tr>\n",
       "  </thead>\n",
       "  <tbody>\n",
       "    <tr>\n",
       "      <th>0</th>\n",
       "      <td>AS</td>\n",
       "      <td>N407AS</td>\n",
       "      <td>ANC</td>\n",
       "      <td>SEA</td>\n",
       "      <td>2015-01-01 00:05:00</td>\n",
       "      <td>23:54:00</td>\n",
       "      <td>-11</td>\n",
       "      <td>04:30:00</td>\n",
       "      <td>04:08:00</td>\n",
       "      <td>-22</td>\n",
       "      <td>Ted Stevens Anchorage International Airport</td>\n",
       "      <td>Alaska Airlines Inc.</td>\n",
       "      <td>INTL</td>\n",
       "      <td>2015-01-01</td>\n",
       "    </tr>\n",
       "    <tr>\n",
       "      <th>1</th>\n",
       "      <td>AA</td>\n",
       "      <td>N3KUAA</td>\n",
       "      <td>LAX</td>\n",
       "      <td>PBI</td>\n",
       "      <td>2015-01-01 00:10:00</td>\n",
       "      <td>00:02:00</td>\n",
       "      <td>-8</td>\n",
       "      <td>07:50:00</td>\n",
       "      <td>07:41:00</td>\n",
       "      <td>-9</td>\n",
       "      <td>Los Angeles International Airport</td>\n",
       "      <td>American Airlines Inc.</td>\n",
       "      <td>INTL</td>\n",
       "      <td>2015-01-01</td>\n",
       "    </tr>\n",
       "    <tr>\n",
       "      <th>2</th>\n",
       "      <td>US</td>\n",
       "      <td>N171US</td>\n",
       "      <td>SFO</td>\n",
       "      <td>CLT</td>\n",
       "      <td>2015-01-01 00:20:00</td>\n",
       "      <td>00:18:00</td>\n",
       "      <td>-2</td>\n",
       "      <td>08:06:00</td>\n",
       "      <td>08:11:00</td>\n",
       "      <td>5</td>\n",
       "      <td>San Francisco International Airport</td>\n",
       "      <td>US Airways Inc.</td>\n",
       "      <td>INTL</td>\n",
       "      <td>2015-01-01</td>\n",
       "    </tr>\n",
       "    <tr>\n",
       "      <th>3</th>\n",
       "      <td>AA</td>\n",
       "      <td>N3HYAA</td>\n",
       "      <td>LAX</td>\n",
       "      <td>MIA</td>\n",
       "      <td>2015-01-01 00:20:00</td>\n",
       "      <td>00:15:00</td>\n",
       "      <td>-5</td>\n",
       "      <td>08:05:00</td>\n",
       "      <td>07:56:00</td>\n",
       "      <td>-9</td>\n",
       "      <td>Los Angeles International Airport</td>\n",
       "      <td>American Airlines Inc.</td>\n",
       "      <td>INTL</td>\n",
       "      <td>2015-01-01</td>\n",
       "    </tr>\n",
       "    <tr>\n",
       "      <th>4</th>\n",
       "      <td>AS</td>\n",
       "      <td>N527AS</td>\n",
       "      <td>SEA</td>\n",
       "      <td>ANC</td>\n",
       "      <td>2015-01-01 00:25:00</td>\n",
       "      <td>00:24:00</td>\n",
       "      <td>-1</td>\n",
       "      <td>03:20:00</td>\n",
       "      <td>02:59:00</td>\n",
       "      <td>-21</td>\n",
       "      <td>Seattle-Tacoma International Airport</td>\n",
       "      <td>Alaska Airlines Inc.</td>\n",
       "      <td>INTL</td>\n",
       "      <td>2015-01-01</td>\n",
       "    </tr>\n",
       "  </tbody>\n",
       "</table>\n",
       "</div>"
      ],
      "text/plain": [
       "  AIRLINE_CODE TAIL_NUMBER ORIGIN_AIRPORT DESTINATION_AIRPORT  \\\n",
       "0           AS      N407AS            ANC                 SEA   \n",
       "1           AA      N3KUAA            LAX                 PBI   \n",
       "2           US      N171US            SFO                 CLT   \n",
       "3           AA      N3HYAA            LAX                 MIA   \n",
       "4           AS      N527AS            SEA                 ANC   \n",
       "\n",
       "  SCHEDULED_DEPARTURE DEPARTURE_TIME  DEPARTURE_DELAY SCHEDULED_ARRIVAL  \\\n",
       "0 2015-01-01 00:05:00       23:54:00              -11          04:30:00   \n",
       "1 2015-01-01 00:10:00       00:02:00               -8          07:50:00   \n",
       "2 2015-01-01 00:20:00       00:18:00               -2          08:06:00   \n",
       "3 2015-01-01 00:20:00       00:15:00               -5          08:05:00   \n",
       "4 2015-01-01 00:25:00       00:24:00               -1          03:20:00   \n",
       "\n",
       "  ARRIVAL_TIME  ARRIVAL_DELAY                                      AIRPORT  \\\n",
       "0     04:08:00            -22  Ted Stevens Anchorage International Airport   \n",
       "1     07:41:00             -9            Los Angeles International Airport   \n",
       "2     08:11:00              5          San Francisco International Airport   \n",
       "3     07:56:00             -9            Los Angeles International Airport   \n",
       "4     02:59:00            -21         Seattle-Tacoma International Airport   \n",
       "\n",
       "                  AIRLINE Status       DATE  \n",
       "0    Alaska Airlines Inc.   INTL 2015-01-01  \n",
       "1  American Airlines Inc.   INTL 2015-01-01  \n",
       "2         US Airways Inc.   INTL 2015-01-01  \n",
       "3  American Airlines Inc.   INTL 2015-01-01  \n",
       "4    Alaska Airlines Inc.   INTL 2015-01-01  "
      ]
     },
     "execution_count": 24,
     "metadata": {},
     "output_type": "execute_result"
    }
   ],
   "source": [
    "# View the first 5 rows of the data\n",
    "df_flights.head()"
   ]
  },
  {
   "cell_type": "markdown",
   "metadata": {},
   "source": [
    "Export combined flight data to all_flights.csv to examine in Tableau to ensure all the data is appropriate and valid for analysis."
   ]
  },
  {
   "cell_type": "code",
   "execution_count": 25,
   "metadata": {},
   "outputs": [],
   "source": [
    "# Export all flight data to .csv for visualization in Tableau\n",
    "df_flights.to_csv('data/all_flights.txt', encoding='utf-8', index=False)"
   ]
  },
  {
   "cell_type": "markdown",
   "metadata": {},
   "source": [
    "Sample data in Tableau to get a visual representation of the data, and to gather insights on how to perform the row-by-row itteration to mark flights as DELAYED or NOT DELAYED.<br><br>\n",
    "![Tableau Screenshot](https://github.com/GaryLBentley/FlightDelays/blob/main/images/tableau.jpg?raw=true)"
   ]
  },
  {
   "cell_type": "markdown",
   "metadata": {},
   "source": [
    "Based on analysis in Tableau, the desired column order and sorting was determined."
   ]
  },
  {
   "cell_type": "code",
   "execution_count": 26,
   "metadata": {},
   "outputs": [],
   "source": [
    "# Change the order of the columns\n",
    "df_flights = df_flights[['DATE', 'TAIL_NUMBER', 'SCHEDULED_DEPARTURE', 'ORIGIN_AIRPORT', 'DESTINATION_AIRPORT', 'DEPARTURE_TIME', \n",
    "                         'DEPARTURE_DELAY', 'SCHEDULED_ARRIVAL', 'ARRIVAL_TIME', 'ARRIVAL_DELAY', 'Status', 'AIRLINE_CODE', \n",
    "                         'AIRLINE', 'AIRPORT']]\n",
    "\n",
    "# Sort the dataframe\n",
    "df_flights.sort_values(by=['DATE', 'TAIL_NUMBER', 'SCHEDULED_DEPARTURE'], axis=0, ascending=[True, True, True], inplace=True,\n",
    "                       kind='quicksort', ignore_index=True, key=None)"
   ]
  },
  {
   "cell_type": "markdown",
   "metadata": {},
   "source": [
    "## Identify Delayed Flights\n",
    "Parse the Flights data and identify all departing flihts that have been delayed due to an inbound aircraft delay.<br>\n",
    "Add a new DELAYED column to the Flights data to hold that status.\n"
   ]
  },
  {
   "cell_type": "code",
   "execution_count": 27,
   "metadata": {},
   "outputs": [],
   "source": [
    "# Add a new DELAYED column with blank values\n",
    "df_flights['DELAYED'] = 0"
   ]
  },
  {
   "cell_type": "markdown",
   "metadata": {},
   "source": [
    "Iterate through the entire df_flights dataset row by row. Based on the DATE, TAIL_NUMBER, capture the ARRIVAL_DELAY of the first row and then move to the next row. If the DATE and TAIL_NUMBER still match, capture the DEPARTURE_DELAY value. If both the ARRIVAL_DELAY from the previous row and the DEPARTURE_DELAY from the current row are > 0, then mark Status DELAYED (1). If not, mark Status as NOT DELAYED (0). Each time the DATE or TAIL_NUMBER changes, the current row will be marked as NOT DELAYED (0). This is the first flight of the day and cannot be delayed due to a late inbound flight the night before. Itterate through the data until all rows have a Status."
   ]
  },
  {
   "cell_type": "code",
   "execution_count": 28,
   "metadata": {},
   "outputs": [],
   "source": [
    "start_date = \"\"\n",
    "curr_date = \"\" \n",
    "start_tail = \"\"\n",
    "curr_tail = \"\"\n",
    "\n",
    "for index, row in df_flights.iterrows():\n",
    "    curr_date = row[\"DATE\"]\n",
    "    curr_tail = row[\"TAIL_NUMBER\"]\n",
    "\n",
    "    # Start of flight data for new date\n",
    "    if start_date != curr_date:     \n",
    "        \n",
    "        # Starting new date and aircraft\n",
    "        start_date = curr_date      \n",
    "        start_tail = curr_tail\n",
    "\n",
    "        # Capture the arrival delay\n",
    "        arrival_delay = row[\"ARRIVAL_DELAY\"]  \n",
    "\n",
    "        # Mark row as NOT DELAYED\n",
    "        df_flights.at[index, 'DELAYED'] = 0\n",
    "\n",
    "    else:   # Dates match so still processing that days' flights\n",
    "       \n",
    "        # Check to see if still processing same aircraft\n",
    "        if start_tail == curr_tail:\n",
    "            \n",
    "            # Capture the departure delay \n",
    "            departure_delay = row[\"DEPARTURE_DELAY\"]\n",
    "\n",
    "            # Get the arrival delay of the flight we just added for next iteration\n",
    "            arrival_delay = row[\"ARRIVAL_DELAY\"]\n",
    "\n",
    "            # If previous flight row has ARRIVAL_DELAY > 0 and this row has DEPARTURE_DELAY > 0\n",
    "            if (arrival_delay > 0 and departure_delay > 0):\n",
    "\n",
    "                # Mark row as DELAYED\n",
    "                df_flights.at[index, 'DELAYED'] = 1\n",
    "\n",
    "            else:   # No delay match\n",
    "\n",
    "                # Get the new arrival delay\n",
    "                arrival_delay = row[\"ARRIVAL_DELAY\"]\n",
    "\n",
    "                # Mark row as NOT DELAYED\n",
    "                df_flights.at[index, 'DELAYED'] = 0\n",
    "\n",
    "        else:   # Date matches but new aircraft\n",
    "\n",
    "            # Capture the arrival delay and set the start_tail\n",
    "            arrival_delay = row[\"ARRIVAL_DELAY\"]\n",
    "            start_tail = curr_tail\n",
    "\n",
    "            # Mark row as NOT DELAYED\n",
    "            df_flights.at[index, 'DELAYED'] = 0\n"
   ]
  },
  {
   "cell_type": "markdown",
   "metadata": {},
   "source": [
    "All flights have been tagged as either DELAYED or NOT DELAYED."
   ]
  },
  {
   "cell_type": "code",
   "execution_count": 29,
   "metadata": {},
   "outputs": [
    {
     "data": {
      "text/plain": [
       "DELAYED\n",
       "0    4429752\n",
       "1    1284256\n",
       "Name: count, dtype: int64"
      ]
     },
     "execution_count": 29,
     "metadata": {},
     "output_type": "execute_result"
    }
   ],
   "source": [
    "# Get the count of DELAYED flights\n",
    "df_flights['DELAYED'].value_counts()"
   ]
  },
  {
   "cell_type": "markdown",
   "metadata": {},
   "source": [
    "## Data Analysis\n",
    "- Get count of INTL and REG flights\n",
    "- Split data into INTL and REG dataset\n"
   ]
  },
  {
   "cell_type": "markdown",
   "metadata": {},
   "source": [
    "Determine the number of International and Regional flights in our data."
   ]
  },
  {
   "cell_type": "code",
   "execution_count": 30,
   "metadata": {},
   "outputs": [
    {
     "data": {
      "text/plain": [
       "Status\n",
       "INTL    4596217\n",
       "REG     1117791\n",
       "Name: count, dtype: int64"
      ]
     },
     "execution_count": 30,
     "metadata": {},
     "output_type": "execute_result"
    }
   ],
   "source": [
    "# Count of INTL and REG flights\n",
    "df_flights['Status'].value_counts()"
   ]
  },
  {
   "cell_type": "markdown",
   "metadata": {},
   "source": [
    "Split into INTL and REG data frames for analysis. Also create a data frame that contains all DELAYED flights."
   ]
  },
  {
   "cell_type": "code",
   "execution_count": 41,
   "metadata": {},
   "outputs": [
    {
     "name": "stdout",
     "output_type": "stream",
     "text": [
      "INTL Delay Rate: 0.23183848804353668\n",
      "REG Delay Rate: 0.19563227830605184\n",
      "Observed Difference: -0.03620620973748484\n"
     ]
    }
   ],
   "source": [
    "# Create INTL and REG datasets\n",
    "df_intl = df_flights[df_flights['Status'] == 'INTL']\n",
    "df_reg = df_flights[df_flights['Status'] == 'REG']\n",
    "\n",
    "intl_delay_rate = df_intl['DELAYED'].sum() / df_intl.shape[0]\n",
    "reg_delay_rate = df_reg['DELAYED'].sum() / df_reg.shape[0]\n",
    "\n",
    "obs_diff = reg_delay_rate - intl_delay_rate\n",
    "\n",
    "print(f'INTL Delay Rate: {intl_delay_rate}')\n",
    "print(f'REG Delay Rate: {reg_delay_rate}')\n",
    "print(f'Observed Difference: {obs_diff}')"
   ]
  },
  {
   "cell_type": "markdown",
   "metadata": {},
   "source": [
    "Based on casual observation of the raw data, there appeared to be a lot of outliers around DEPARTURE_DELAY. We will use box plots to visualize these outliers."
   ]
  },
  {
   "cell_type": "code",
   "execution_count": 49,
   "metadata": {},
   "outputs": [
    {
     "data": {
      "image/png": "[encoded data removed]",
      "text/plain": [
       "<Figure size 2000x600 with 1 Axes>"
      ]
     },
     "metadata": {},
     "output_type": "display_data"
    }
   ],
   "source": [
    "df_all_delay = df_flights[df_flights['DELAYED'] == 1]\n",
    "\n",
    "# Define custom colors for the boxplots\n",
    "custom_palette = {'INTL': 'green', 'REG': 'purple'}\n",
    "\n",
    "# Create the boxplot\n",
    "plt.subplots(nrows=1, ncols=1, figsize=(20,6))\n",
    "plt.suptitle('International Delays vs. Regional Delays', size=18)\n",
    "sns.boxplot(x='DEPARTURE_DELAY', y='Status', hue='Status', data=df_all_delay, palette=custom_palette, \n",
    "            flierprops=dict(markerfacecolor='none', markeredgecolor='none', alpha=0.0),\n",
    "            whiskerprops=dict(color='black', linewidth=1.5), notch=True)\n",
    "\n",
    "# Add scatterplot with same hue colors for outlier circles\n",
    "for i, status in enumerate(df_all_delay['Status'].unique()):\n",
    "    sns.scatterplot(data=df_all_delay[df_all_delay['Status'] == status], x='DEPARTURE_DELAY', y='Status', color=custom_palette[status])\n",
    "\n",
    "# Set x-label and y-label\n",
    "plt.xlabel('Departure Delay (minutes)', fontsize=14)\n",
    "plt.ylabel('Airport Type', fontsize=14)\n",
    "\n",
    "\n",
    "# Display the boxplot\n",
    "plt.show()"
   ]
  },
  {
   "cell_type": "markdown",
   "metadata": {},
   "source": [
    "There is a substantial number of ourliers in the data, both for REG and INTL. Normally, investigation into these outliers would be warranted since they could cause the data to be skewed. In this case however, the outliers appear very evenly spread over both sets of data, so their inclusion in the analysis should not pose any issues. The quartiles in the boxplot are also closely aligned with each other suggesting an even distribution of data points."
   ]
  },
  {
   "cell_type": "markdown",
   "metadata": {},
   "source": [
    "In order to confirm the alternate hypothesis that Regional airports are less likely to have a delayed departure, null hypothesis tesing needs to be done so it can be rejected. Failure to reject the null hypothesis would conclude that the alternate hypothesis is incorrect.<br><br>\n",
    "A/B testing will be used to compare the means from the INTL and REG flight delay data. Using Bootstrap stratified sampling, we will sample both sets of data 10K times and plot the results in a histogram. The observed difference will also be plotted to show where the data falls in relation the sampling."
   ]
  },
  {
   "cell_type": "code",
   "execution_count": 115,
   "metadata": {},
   "outputs": [],
   "source": [
    "# Itterations   Elapsed Time\n",
    "# 10            1m 23s\n",
    "# 100           14m 7s\n",
    "# 1000          130m 15s (2h 10m 15s)\n",
    "# 10000         \n",
    "\n",
    "diffs = []\n",
    "exp = []\n",
    "for _ in range(1000):\n",
    "\n",
    "    # Capture a stratified sample of 20% of the flight data\n",
    "    b_samp = df_flights.groupby('Status').apply(lambda x: x.sample(frac=0.20, replace=True)).reset_index(drop=True)\n",
    "\n",
    "    # Create dataframes for the Control and Experiement groups\n",
    "    control_df = b_samp.query('Status == \"INTL\"')\n",
    "    experiment_df = b_samp.query('Status == \"REG\"')\n",
    "\n",
    "    # Calculate the rate (percentage) of delayed flights for both groups\n",
    "    control_rate = control_df['DELAYED'].sum() / len(control_df['DELAYED'])\n",
    "    experiment_rate = experiment_df['DELAYED'].sum() / len(experiment_df['DELAYED'])\n",
    "\n",
    "    # Append the difference between rates\n",
    "    diffs.append(experiment_rate - control_rate)\n",
    "    exp.append(experiment_rate)\n"
   ]
  },
  {
   "cell_type": "markdown",
   "metadata": {},
   "source": []
  },
  {
   "cell_type": "code",
   "execution_count": 116,
   "metadata": {},
   "outputs": [],
   "source": [
    "#diffs_null = np.array(diffs)\n",
    "diffs_null = np.array(exp)\n",
    "null_vals = np.random.normal(0, diffs_null.std(), diffs_null.size)"
   ]
  },
  {
   "cell_type": "markdown",
   "metadata": {},
   "source": []
  },
  {
   "cell_type": "code",
   "execution_count": 117,
   "metadata": {},
   "outputs": [
    {
     "data": {
      "image/png": "[encoded data removed]",
      "text/plain": [
       "<Figure size 1000x600 with 1 Axes>"
      ]
     },
     "metadata": {},
     "output_type": "display_data"
    }
   ],
   "source": [
    "plt.figure(figsize=(10, 6))\n",
    "plt.hist(diffs, alpha=0.8, bins=20, color='purple', label='Regional')\n",
    "plt.hist(null_vals, alpha=0.8, bins=20, color='green', label='International')\n",
    "plt.axvline(x=obs_diff, color='red', linestyle='-', label='Observed Difference')\n",
    "plt.legend()\n",
    "plt.xlabel('Bootstrap Sample Statistics (10K Samples)')\n",
    "plt.ylabel('Frequency')\n",
    "plt.title('Distribution of Regional Delay Means vs International Null Distribution Means')\n",
    "plt.grid(True)\n",
    "\n",
    "# Show plot\n",
    "plt.show()"
   ]
  },
  {
   "cell_type": "code",
   "execution_count": 118,
   "metadata": {},
   "outputs": [
    {
     "data": {
      "text/plain": [
       "0.0"
      ]
     },
     "execution_count": 118,
     "metadata": {},
     "output_type": "execute_result"
    }
   ],
   "source": [
    "p_val = (null_vals > abs(obs_diff)).mean()\n",
    "p_val"
   ]
  },
  {
   "cell_type": "markdown",
   "metadata": {},
   "source": []
  },
  {
   "cell_type": "markdown",
   "metadata": {},
   "source": [
    "Based on the results from the Bootstrap sampling, it appears that there is significant statistical significance between the datasets. The P-value from the sampling is 0.00. To further confirm these results, T-Testing on independent samples of the data."
   ]
  },
  {
   "cell_type": "code",
   "execution_count": 119,
   "metadata": {},
   "outputs": [
    {
     "name": "stdout",
     "output_type": "stream",
     "text": [
      "T-statistic: -13.328097501068177\n",
      "P-value: 1.6333969993523695e-40\n"
     ]
    }
   ],
   "source": [
    "# Perform independent samples t-test for delayed flights\n",
    "t_statistic, p_value = ttest_ind(\n",
    "    df_intl[df_intl['DELAYED'] == 1]['DEPARTURE_DELAY'],\n",
    "    df_reg[df_reg['DELAYED'] == 1]['DEPARTURE_DELAY'],\n",
    "    equal_var=False  # Set equal_var=False if variances are assumed to be unequal\n",
    ")\n",
    "\n",
    "# Print the results\n",
    "print(\"T-statistic:\", t_statistic)\n",
    "print(\"P-value:\", p_value)\n"
   ]
  },
  {
   "cell_type": "markdown",
   "metadata": {},
   "source": [
    "To reject the null hypothesis, a P-value less than 0.05 is desired to give us at least a 95% confidence score. The results of the T-Test delivered an extremely low P-value of 1.6333969993523695e-40, further confirming the analysis done in the Bootstrap sampling. <br><br>\n",
    "One last test will be a one-way Analysis of Variance (ANOVA) test on our two datasets. This testing will compare means to see if there is any statistical significance between REG and INTL delays. "
   ]
  },
  {
   "cell_type": "code",
   "execution_count": 120,
   "metadata": {},
   "outputs": [
    {
     "name": "stdout",
     "output_type": "stream",
     "text": [
      "F-statistic: 215.54011158917334\n",
      "P-value: 8.574463287431542e-49\n"
     ]
    }
   ],
   "source": [
    "from scipy.stats import f_oneway\n",
    "\n",
    "# Perform one-way ANOVA for delayed flights\n",
    "f_statistic, p_value = f_oneway(\n",
    "    df_intl[df_intl['DELAYED'] == 1]['DEPARTURE_DELAY'],\n",
    "    df_reg[df_reg['DELAYED'] == 1]['DEPARTURE_DELAY']\n",
    ")\n",
    "\n",
    "# Print the results\n",
    "print(\"F-statistic:\", f_statistic)\n",
    "print(\"P-value:\", p_value)\n"
   ]
  },
  {
   "cell_type": "markdown",
   "metadata": {},
   "source": [
    "The ANOVA analysis provides interesting results. The relatively large F-Statistic suggests that there is a substantial difference between the means of both groups. The P-value result is substantially below our 0.05 threshold indicating there is strong evidence to reject the null hypothesis. The combination of a high F-statistic and low P-value suggests that the differences between group means are statstically significant and not likely due to random chance.\n"
   ]
  },
  {
   "cell_type": "markdown",
   "metadata": {},
   "source": [
    "One additional point of analysis is to see what airports have the worst delays."
   ]
  },
  {
   "cell_type": "code",
   "execution_count": null,
   "metadata": {},
   "outputs": [],
   "source": [
    "df_flights_airport = df_flights.groupby(['ORIGIN_AIRPORT', 'AIRPORT', 'Status']).size().reset_index(name='FLIGHTS')\n",
    "df_delayed_flights = df_all_delay.groupby(['ORIGIN_AIRPORT', 'AIRPORT', 'Status']).size().reset_index(name='FLIGHTS')\n",
    "\n",
    "# Merge the two DataFrames on the common columns\n",
    "merged_df = df_flights_airport.merge(df_delayed_flights, on=['ORIGIN_AIRPORT', 'AIRPORT', 'Status'], suffixes=('_total', '_delayed'))\n",
    "\n",
    "# Calculate the percentage of delayed flights\n",
    "merged_df['DELAYED_PERCENTAGE'] = (merged_df['FLIGHTS_delayed'] / merged_df['FLIGHTS_total']) * 100\n",
    "\n",
    "# Split into REG and INTL\n",
    "reg_delayed = merged_df.query('Status == \"REG\"').head(15).sort_values(by='DELAYED_PERCENTAGE', ascending=False).reset_index()\n",
    "intl_delayed = merged_df.query('Status == \"INTL\"').head(15).sort_values(by='DELAYED_PERCENTAGE', ascending=False).reset_index()"
   ]
  },
  {
   "cell_type": "markdown",
   "metadata": {},
   "source": []
  },
  {
   "cell_type": "code",
   "execution_count": 236,
   "metadata": {},
   "outputs": [
    {
     "data": {
      "image/png": "[encoded data removed]",
      "text/plain": [
       "<Figure size 1600x900 with 2 Axes>"
      ]
     },
     "metadata": {},
     "output_type": "display_data"
    }
   ],
   "source": [
    "\n",
    "# Create figure and axis objects\n",
    "fig, (ax1, ax2) = plt.subplots(1, 2, figsize=(16, 9))\n",
    "plt.suptitle('Top 15 Worst Airports for Delayed Flights by Percentage', fontsize=12)\n",
    "\n",
    "# Plot for REG airports\n",
    "#subset_reg = reg_delayed.sort_values(by='DELAYED_PERCENTAGE', ascending=False)\n",
    "subset_reg = reg_delayed.set_index('ORIGIN_AIRPORT')  # Set the index to 'ORIGIN_AIRPORT'\n",
    "subset_reg.drop('index', axis=1, inplace=True)\n",
    "subset_reg = subset_reg.iloc[::-1]  # Reverse the order of the rows\n",
    "bars_reg = ax1.barh(subset_reg.index, subset_reg['DELAYED_PERCENTAGE'], color='purple', label='REG')\n",
    "for bar, airport, flights_delayed in zip(bars_reg, subset_reg['AIRPORT'], subset_reg['FLIGHTS_delayed']):\n",
    "    ax1.text(bar.get_x() + 0.5, bar.get_y() + bar.get_height()/2, airport, color='white', va='center', ha='left', fontsize=8)\n",
    "    ax1.text(bar.get_width() + 0.5, bar.get_y() + bar.get_height()/2, str(flights_delayed), color='black', va='center', fontsize=8)\n",
    "\n",
    "# Plot for INTL airports\n",
    "subset_intl = intl_delayed.set_index('ORIGIN_AIRPORT')  # Set the index to 'ORIGIN_AIRPORT'\n",
    "subset_intl.drop('index', axis=1, inplace=True)\n",
    "subset_intl = subset_intl.iloc[::-1]  # Reverse the order of the rows\n",
    "bars_intl = ax2.barh(subset_intl.index, subset_intl['DELAYED_PERCENTAGE'], color='green', label='INTL')\n",
    "for bar, airport, flights_delayed in zip(bars_intl, subset_intl['AIRPORT'], subset_intl['FLIGHTS_delayed']):\n",
    "    ax2.text(bar.get_x() + 0.5, bar.get_y() + bar.get_height()/2, airport, color='white', va='center', ha='left', fontsize=8)\n",
    "    ax2.text(bar.get_width() + 0.5, bar.get_y() + bar.get_height()/2, str(flights_delayed), color='black', va='center', fontsize=8)\n",
    "\n",
    "# Set additional tick marks on the x-axis for REG plot\n",
    "ax1.set_xticks(np.arange(0, subset_reg['DELAYED_PERCENTAGE'].max() + 5, 5))\n",
    "\n",
    "# Set additional tick marks on the x-axis for INTL plot\n",
    "ax2.set_xticks(np.arange(0, subset_intl['DELAYED_PERCENTAGE'].max() + 5, 5))\n",
    "\n",
    "# Add vertical grid lines\n",
    "ax1.grid(True, axis='x', linestyle='--', color='gray', alpha=0.5)\n",
    "ax2.grid(True, axis='x', linestyle='--', color='gray', alpha=0.5)\n",
    "\n",
    "# Set labels and title for REG plot\n",
    "ax1.set_xlabel('Delayed Percentage & Delayed Flights', fontsize=10)\n",
    "ax1.set_ylabel('Airport')\n",
    "ax1.set_title('Delayed Percentage by REG Airport', fontsize=10)\n",
    "ax1.legend(loc='lower right')\n",
    "\n",
    "# Set labels and title for INTL plot\n",
    "ax2.set_xlabel('Delayed Percentage & Delayed Flights', fontsize=10)\n",
    "ax2.set_ylabel('Airport')\n",
    "ax2.set_title('Delayed Percentage by INTL Airport', fontsize=10)\n",
    "ax2.legend(loc='lower right')\n",
    "\n",
    "# Show plot\n",
    "plt.tight_layout()  # Adjust layout to prevent overlapping\n",
    "plt.show()"
   ]
  },
  {
   "cell_type": "markdown",
   "metadata": {},
   "source": [
    "## Conclusions\n",
    "\n",
    "In order to validate that Regional Airports have a statistically significant probability that an outbound flight is less likely to be delayed due to an inbound aircraft delay, we want a 95% confidence level that this is the case. The value used to determine this is known as the P-value, and it should be less than or equal to 0.05. This benchmark is known as the Type I Error Rate. In the bootstrap sample of the distribution of means, we saw a P-value of 0.00. With the T-Test and ANOVA test, the P-values were also significantly lower than our 0.05 threshold.<br><br>\n",
    "The results are statistically sigificant and allow us to reject the null hypothesis and accept the alternate hypothesis with confidence. Based on these results, I conclude that flying from a Regional Airport will result in a lower probability of experiencing a delayed departure, even if the inbound plane is delayed prior to your departure."
   ]
  }
 ],
 "metadata": {
  "kernelspec": {
   "display_name": ".venv",
   "language": "python",
   "name": "python3"
  },
  "language_info": {
   "codemirror_mode": {
    "name": "ipython",
    "version": 3
   },
   "file_extension": ".py",
   "mimetype": "text/x-python",
   "name": "python",
   "nbconvert_exporter": "python",
   "pygments_lexer": "ipython3",
   "version": "3.9.13"
  }
 },
 "nbformat": 4,
 "nbformat_minor": 2
}
